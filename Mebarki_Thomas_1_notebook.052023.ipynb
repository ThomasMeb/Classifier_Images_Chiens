{
 "cells": [
  {
   "cell_type": "code",
   "execution_count": 4,
   "metadata": {},
   "outputs": [],
   "source": [
    "from PIL import Image\n",
    "import numpy as np\n",
    "import matplotlib.pyplot as plt\n",
    "import matplotlib.image as mpimg\n",
    "import os\n",
    "import cv2"
   ]
  },
  {
   "cell_type": "code",
   "execution_count": 7,
   "metadata": {},
   "outputs": [
    {
     "name": "stdout",
     "output_type": "stream",
     "text": [
      "Aucun GPU trouvé\n"
     ]
    },
    {
     "name": "stderr",
     "output_type": "stream",
     "text": [
      "2023-05-13 16:17:45.553315: I tensorflow/compiler/xla/stream_executor/cuda/cuda_gpu_executor.cc:996] successful NUMA node read from SysFS had negative value (-1), but there must be at least one NUMA node, so returning NUMA node zero. See more at https://github.com/torvalds/linux/blob/v6.0/Documentation/ABI/testing/sysfs-bus-pci#L344-L355\n",
      "2023-05-13 16:17:45.553415: W tensorflow/core/common_runtime/gpu/gpu_device.cc:1956] Cannot dlopen some GPU libraries. Please make sure the missing libraries mentioned above are installed properly if you would like to use GPU. Follow the guide at https://www.tensorflow.org/install/gpu for how to download and setup the required libraries for your platform.\n",
      "Skipping registering GPU devices...\n"
     ]
    }
   ],
   "source": [
    "import tensorflow as tf\n",
    "\n",
    "if tf.test.gpu_device_name():\n",
    "    print('GPU trouvé: {}'.format(tf.test.gpu_device_name()))\n",
    "else:\n",
    "    print(\"Aucun GPU trouvé\")"
   ]
  },
  {
   "cell_type": "code",
   "execution_count": 2,
   "metadata": {},
   "outputs": [
    {
     "ename": "KeyboardInterrupt",
     "evalue": "",
     "output_type": "error",
     "traceback": [
      "\u001b[0;31m---------------------------------------------------------------------------\u001b[0m",
      "\u001b[0;31mKeyboardInterrupt\u001b[0m                         Traceback (most recent call last)",
      "Cell \u001b[0;32mIn[2], line 10\u001b[0m\n\u001b[1;32m      8\u001b[0m \u001b[39mif\u001b[39;00m os\u001b[39m.\u001b[39mpath\u001b[39m.\u001b[39misdir(breed_directory):\n\u001b[1;32m      9\u001b[0m     \u001b[39mfor\u001b[39;00m image_filename \u001b[39min\u001b[39;00m os\u001b[39m.\u001b[39mlistdir(breed_directory):\n\u001b[0;32m---> 10\u001b[0m         img \u001b[39m=\u001b[39m cv2\u001b[39m.\u001b[39;49mimread(os\u001b[39m.\u001b[39;49mpath\u001b[39m.\u001b[39;49mjoin(breed_directory, image_filename))\n\u001b[1;32m     11\u001b[0m         \u001b[39mif\u001b[39;00m img \u001b[39mis\u001b[39;00m \u001b[39mnot\u001b[39;00m \u001b[39mNone\u001b[39;00m:\n\u001b[1;32m     12\u001b[0m             images\u001b[39m.\u001b[39mappend(img)\n",
      "\u001b[0;31mKeyboardInterrupt\u001b[0m: "
     ]
    }
   ],
   "source": [
    "images = [] # liste pour stocker toutes les images\n",
    "labels = [] # liste pour stocker les labels de chaque image\n",
    "\n",
    "dataset_directory = \"images\"\n",
    "\n",
    "for breed in os.listdir(dataset_directory):\n",
    "    breed_directory = os.path.join(dataset_directory, breed)\n",
    "    if os.path.isdir(breed_directory):\n",
    "        for image_filename in os.listdir(breed_directory):\n",
    "            img = cv2.imread(os.path.join(breed_directory, image_filename))\n",
    "            if img is not None:\n",
    "                images.append(img)\n",
    "                labels.append(breed)"
   ]
  },
  {
   "cell_type": "code",
   "execution_count": null,
   "metadata": {},
   "outputs": [],
   "source": [
    "#Redimensionnement des images\n",
    "\n",
    "image_size = (224, 224) # Vous pouvez choisir une autre taille\n",
    "\n",
    "images = [cv2.resize(img, image_size) for img in images]"
   ]
  },
  {
   "cell_type": "code",
   "execution_count": null,
   "metadata": {},
   "outputs": [],
   "source": []
  },
  {
   "cell_type": "code",
   "execution_count": null,
   "metadata": {},
   "outputs": [],
   "source": [
    "#Normalisation des images\n",
    "\n",
    "for i in range(len(images)):\n",
    "    images[i] = images[i] / 255.0"
   ]
  },
  {
   "cell_type": "code",
   "execution_count": null,
   "metadata": {},
   "outputs": [],
   "source": []
  },
  {
   "cell_type": "code",
   "execution_count": null,
   "metadata": {},
   "outputs": [],
   "source": [
    "#Conversion des labels en encodage one-hot\n",
    "\n",
    "from sklearn.preprocessing import LabelBinarizer\n",
    "\n",
    "lb = LabelBinarizer()\n",
    "labels = lb.fit_transform(labels)"
   ]
  },
  {
   "cell_type": "code",
   "execution_count": null,
   "metadata": {},
   "outputs": [],
   "source": []
  },
  {
   "cell_type": "code",
   "execution_count": null,
   "metadata": {},
   "outputs": [
    {
     "ename": "",
     "evalue": "",
     "output_type": "error",
     "traceback": [
      "\u001b[1;31mCanceled future for execute_request message before replies were done"
     ]
    },
    {
     "ename": "",
     "evalue": "",
     "output_type": "error",
     "traceback": [
      "\u001b[1;31mLe Kernel s’est bloqué lors de l’exécution du code dans la cellule active ou une cellule précédente. Veuillez vérifier le code dans la ou les cellules pour identifier une cause possible de l’échec. Cliquez <a href='https://aka.ms/vscodeJupyterKernelCrash'>ici</a> pour plus d’informations. Pour plus d’informations, consultez Jupyter <a href='command:jupyter.viewOutput'>log</a>."
     ]
    }
   ],
   "source": [
    "from sklearn.model_selection import train_test_split\n",
    "\n",
    "# Convertir les listes en numpy arrays\n",
    "images = np.array(images)\n",
    "labels = np.array(labels)\n",
    "\n",
    "# Séparation du jeu de données\n",
    "X_train, X_test, y_train, y_test = train_test_split(images, labels, test_size=0.2, random_state=42)"
   ]
  },
  {
   "cell_type": "code",
   "execution_count": null,
   "metadata": {},
   "outputs": [],
   "source": []
  },
  {
   "cell_type": "code",
   "execution_count": null,
   "metadata": {},
   "outputs": [],
   "source": []
  },
  {
   "cell_type": "code",
   "execution_count": 9,
   "metadata": {},
   "outputs": [],
   "source": [
    "import cv2\n",
    "import os\n",
    "import numpy as np\n",
    "from sklearn.preprocessing import LabelBinarizer\n",
    "from sklearn.model_selection import train_test_split\n",
    "\n",
    "def process_images_from_directory(directory, batch_size):\n",
    "    images = []\n",
    "    labels = []\n",
    "    count = 0\n",
    "\n",
    "    for breed in os.listdir(directory):\n",
    "        breed_directory = os.path.join(directory, breed)\n",
    "        if os.path.isdir(breed_directory):\n",
    "            for image_filename in os.listdir(breed_directory):\n",
    "                img = cv2.imread(os.path.join(breed_directory, image_filename))\n",
    "                if img is not None:\n",
    "                    img = cv2.resize(img, (224, 224)) # redimensionner l'image\n",
    "                    img = img / 255.0 # normaliser l'image\n",
    "                    images.append(img)\n",
    "                    labels.append(breed)\n",
    "                    count += 1\n",
    "\n",
    "                    # Si le nombre d'images atteint la taille du batch, traitez ce batch et commencez un nouveau batch\n",
    "                    if count >= batch_size:\n",
    "                        yield np.array(images), np.array(labels)\n",
    "                        images = []\n",
    "                        labels = []\n",
    "                        count = 0\n",
    "\n",
    "    # Traitez le dernier batch qui pourrait être inférieur à la taille du batch\n",
    "    if count > 0:\n",
    "        yield np.array(images), np.array(labels)\n",
    "\n",
    "# Utilisation de la fonction\n",
    "directory = \"images\"\n",
    "batch_size = 100 # Choisissez une taille de batch qui convient à votre machine\n",
    "\n",
    "for images, labels in process_images_from_directory(directory, batch_size):\n",
    "    # Utilisez ici les images et les labels pour former votre modèle\n",
    "    lb = LabelBinarizer()\n",
    "    labels = lb.fit_transform(labels)\n",
    "    X_train, X_test, y_train, y_test = train_test_split(images, labels, test_size=0.2, random_state=42)\n"
   ]
  },
  {
   "cell_type": "code",
   "execution_count": null,
   "metadata": {},
   "outputs": [],
   "source": []
  }
 ],
 "metadata": {
  "kernelspec": {
   "display_name": "Python 3",
   "language": "python",
   "name": "python3"
  },
  "language_info": {
   "codemirror_mode": {
    "name": "ipython",
    "version": 3
   },
   "file_extension": ".py",
   "mimetype": "text/x-python",
   "name": "python",
   "nbconvert_exporter": "python",
   "pygments_lexer": "ipython3",
   "version": "3.10.7"
  },
  "orig_nbformat": 4
 },
 "nbformat": 4,
 "nbformat_minor": 2
}
